{
 "cells": [
  {
   "cell_type": "code",
   "execution_count": 5,
   "id": "918a87aa-aa7b-45ad-8711-3c7f106352d2",
   "metadata": {},
   "outputs": [],
   "source": [
    "from sklearn.model_selection import train_test_split\n",
    "import pandas as pd\n",
    "\n"
   ]
  },
  {
   "cell_type": "code",
   "execution_count": 9,
   "id": "47007e3e-4043-4746-866c-34251fddf728",
   "metadata": {},
   "outputs": [],
   "source": [
    "data = pd.read_csv(\"..//data//Life_Expectancy_Data.csv\",sep=\",\")"
   ]
  },
  {
   "cell_type": "code",
   "execution_count": 14,
   "id": "501e147a-3949-4372-81ef-bf7a557efc45",
   "metadata": {},
   "outputs": [],
   "source": [
    "# Identify companies with a lot of records\n",
    "company_counts = data['Country'].value_counts()\n",
    "\n",
    "# Define the threshold for considering a company to have a lot of records\n",
    "threshold = 2  # Adjust this threshold as needed\n",
    "\n",
    "# Get companies with a lot of records\n",
    "selected_companies = company_counts[company_counts >= threshold].index.tolist()\n",
    "\n",
    "# Filter the data for selected companies\n",
    "filtered_data = data[data['Country'].isin(selected_companies)]\n",
    "\n",
    "# Split the filtered data into training and testing sets\n",
    "X_train, X_test = train_test_split(filtered_data, test_size=0.2, random_state=42, stratify=filtered_data['Country'])\n",
    "\n",
    "#X_test = X_test.drop(columns=['Life expectancy '])\n",
    "\n",
    "# Saving train and test sets to CSV files\n",
    "X_train.to_csv('..//data//train.csv', index=False)\n",
    "X_test.to_csv('..//data//test.csv', index=False)"
   ]
  },
  {
   "cell_type": "code",
   "execution_count": 5,
   "id": "7b96f1ba-1898-4f27-9ac7-bea556dda5f2",
   "metadata": {},
   "outputs": [],
   "source": []
  },
  {
   "cell_type": "code",
   "execution_count": null,
   "id": "f7322359-9c9f-4afb-92d5-bfb4f0d996ed",
   "metadata": {},
   "outputs": [],
   "source": []
  },
  {
   "cell_type": "code",
   "execution_count": null,
   "id": "e089c7a8-62ab-462f-80bf-57cebfc3d30e",
   "metadata": {},
   "outputs": [],
   "source": []
  }
 ],
 "metadata": {
  "kernelspec": {
   "display_name": "Python 3 (ipykernel)",
   "language": "python",
   "name": "python3"
  },
  "language_info": {
   "codemirror_mode": {
    "name": "ipython",
    "version": 3
   },
   "file_extension": ".py",
   "mimetype": "text/x-python",
   "name": "python",
   "nbconvert_exporter": "python",
   "pygments_lexer": "ipython3",
   "version": "3.12.1"
  }
 },
 "nbformat": 4,
 "nbformat_minor": 5
}
